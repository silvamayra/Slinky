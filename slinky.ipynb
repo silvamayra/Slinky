{
 "cells": [
  {
   "cell_type": "code",
   "execution_count": 1,
   "metadata": {},
   "outputs": [],
   "source": [
    "import pandas as pd #principal librería para el análisis de datos\n",
    "import numpy as np #librería para trabajar con matrices, vectores y cálculos\n",
    "import matplotlib.pyplot as plt #librería para realizar gráficas\n",
    "import seaborn as sns #librería para realizar gráficas\n",
    "import numpy"
   ]
  },
  {
   "cell_type": "code",
   "execution_count": 2,
   "metadata": {},
   "outputs": [],
   "source": [
    "data1 = pd.read_csv(\"datosCm.csv\", sep= \";\")"
   ]
  },
  {
   "cell_type": "code",
   "execution_count": 4,
   "metadata": {},
   "outputs": [
    {
     "data": {
      "text/html": [
       "<div>\n",
       "<style scoped>\n",
       "    .dataframe tbody tr th:only-of-type {\n",
       "        vertical-align: middle;\n",
       "    }\n",
       "\n",
       "    .dataframe tbody tr th {\n",
       "        vertical-align: top;\n",
       "    }\n",
       "\n",
       "    .dataframe thead th {\n",
       "        text-align: right;\n",
       "    }\n",
       "</style>\n",
       "<table border=\"1\" class=\"dataframe\">\n",
       "  <thead>\n",
       "    <tr style=\"text-align: right;\">\n",
       "      <th></th>\n",
       "      <th>t</th>\n",
       "      <th>x</th>\n",
       "      <th>y</th>\n",
       "    </tr>\n",
       "  </thead>\n",
       "  <tbody>\n",
       "    <tr>\n",
       "      <td>0</td>\n",
       "      <td>3.43</td>\n",
       "      <td>0.0550</td>\n",
       "      <td>-0.0605</td>\n",
       "    </tr>\n",
       "    <tr>\n",
       "      <td>1</td>\n",
       "      <td>3.57</td>\n",
       "      <td>0.0577</td>\n",
       "      <td>-0.0715</td>\n",
       "    </tr>\n",
       "    <tr>\n",
       "      <td>2</td>\n",
       "      <td>3.60</td>\n",
       "      <td>0.0563</td>\n",
       "      <td>-0.0756</td>\n",
       "    </tr>\n",
       "    <tr>\n",
       "      <td>3</td>\n",
       "      <td>3.63</td>\n",
       "      <td>0.0618</td>\n",
       "      <td>-0.0893</td>\n",
       "    </tr>\n",
       "    <tr>\n",
       "      <td>4</td>\n",
       "      <td>3.73</td>\n",
       "      <td>0.0591</td>\n",
       "      <td>-0.0948</td>\n",
       "    </tr>\n",
       "    <tr>\n",
       "      <td>...</td>\n",
       "      <td>...</td>\n",
       "      <td>...</td>\n",
       "      <td>...</td>\n",
       "    </tr>\n",
       "    <tr>\n",
       "      <td>63</td>\n",
       "      <td>7.23</td>\n",
       "      <td>0.0838</td>\n",
       "      <td>-1.8600</td>\n",
       "    </tr>\n",
       "    <tr>\n",
       "      <td>64</td>\n",
       "      <td>7.27</td>\n",
       "      <td>0.0770</td>\n",
       "      <td>-1.8700</td>\n",
       "    </tr>\n",
       "    <tr>\n",
       "      <td>65</td>\n",
       "      <td>7.30</td>\n",
       "      <td>0.0811</td>\n",
       "      <td>-1.8800</td>\n",
       "    </tr>\n",
       "    <tr>\n",
       "      <td>66</td>\n",
       "      <td>7.33</td>\n",
       "      <td>0.0756</td>\n",
       "      <td>-1.9000</td>\n",
       "    </tr>\n",
       "    <tr>\n",
       "      <td>67</td>\n",
       "      <td>7.43</td>\n",
       "      <td>0.0770</td>\n",
       "      <td>-1.9300</td>\n",
       "    </tr>\n",
       "  </tbody>\n",
       "</table>\n",
       "<p>68 rows × 3 columns</p>\n",
       "</div>"
      ],
      "text/plain": [
       "       t       x       y\n",
       "0   3.43  0.0550 -0.0605\n",
       "1   3.57  0.0577 -0.0715\n",
       "2   3.60  0.0563 -0.0756\n",
       "3   3.63  0.0618 -0.0893\n",
       "4   3.73  0.0591 -0.0948\n",
       "..   ...     ...     ...\n",
       "63  7.23  0.0838 -1.8600\n",
       "64  7.27  0.0770 -1.8700\n",
       "65  7.30  0.0811 -1.8800\n",
       "66  7.33  0.0756 -1.9000\n",
       "67  7.43  0.0770 -1.9300\n",
       "\n",
       "[68 rows x 3 columns]"
      ]
     },
     "execution_count": 4,
     "metadata": {},
     "output_type": "execute_result"
    }
   ],
   "source": [
    "data1"
   ]
  },
  {
   "cell_type": "code",
   "execution_count": 5,
   "metadata": {},
   "outputs": [],
   "source": [
    "data2= pd.read_csv(\"DatosSlinky1.csv\", sep=\";\")"
   ]
  },
  {
   "cell_type": "code",
   "execution_count": 8,
   "metadata": {},
   "outputs": [
    {
     "data": {
      "text/html": [
       "<div>\n",
       "<style scoped>\n",
       "    .dataframe tbody tr th:only-of-type {\n",
       "        vertical-align: middle;\n",
       "    }\n",
       "\n",
       "    .dataframe tbody tr th {\n",
       "        vertical-align: top;\n",
       "    }\n",
       "\n",
       "    .dataframe thead th {\n",
       "        text-align: right;\n",
       "    }\n",
       "</style>\n",
       "<table border=\"1\" class=\"dataframe\">\n",
       "  <thead>\n",
       "    <tr style=\"text-align: right;\">\n",
       "      <th></th>\n",
       "      <th>t</th>\n",
       "      <th>y</th>\n",
       "    </tr>\n",
       "  </thead>\n",
       "  <tbody>\n",
       "    <tr>\n",
       "      <td>0</td>\n",
       "      <td>3.333333</td>\n",
       "      <td>-0.049938</td>\n",
       "    </tr>\n",
       "    <tr>\n",
       "      <td>1</td>\n",
       "      <td>3.366667</td>\n",
       "      <td>-0.050971</td>\n",
       "    </tr>\n",
       "    <tr>\n",
       "      <td>2</td>\n",
       "      <td>3.400000</td>\n",
       "      <td>-0.053418</td>\n",
       "    </tr>\n",
       "    <tr>\n",
       "      <td>3</td>\n",
       "      <td>3.433333</td>\n",
       "      <td>-0.055520</td>\n",
       "    </tr>\n",
       "    <tr>\n",
       "      <td>4</td>\n",
       "      <td>3.466667</td>\n",
       "      <td>-0.058198</td>\n",
       "    </tr>\n",
       "    <tr>\n",
       "      <td>...</td>\n",
       "      <td>...</td>\n",
       "      <td>...</td>\n",
       "    </tr>\n",
       "    <tr>\n",
       "      <td>131</td>\n",
       "      <td>7.700000</td>\n",
       "      <td>-1.907570</td>\n",
       "    </tr>\n",
       "    <tr>\n",
       "      <td>132</td>\n",
       "      <td>7.733333</td>\n",
       "      <td>-1.908398</td>\n",
       "    </tr>\n",
       "    <tr>\n",
       "      <td>133</td>\n",
       "      <td>7.766667</td>\n",
       "      <td>-1.914641</td>\n",
       "    </tr>\n",
       "    <tr>\n",
       "      <td>134</td>\n",
       "      <td>7.800000</td>\n",
       "      <td>-1.914248</td>\n",
       "    </tr>\n",
       "    <tr>\n",
       "      <td>135</td>\n",
       "      <td>7.833333</td>\n",
       "      <td>-1.919012</td>\n",
       "    </tr>\n",
       "  </tbody>\n",
       "</table>\n",
       "<p>136 rows × 2 columns</p>\n",
       "</div>"
      ],
      "text/plain": [
       "            t         y\n",
       "0    3.333333 -0.049938\n",
       "1    3.366667 -0.050971\n",
       "2    3.400000 -0.053418\n",
       "3    3.433333 -0.055520\n",
       "4    3.466667 -0.058198\n",
       "..        ...       ...\n",
       "131  7.700000 -1.907570\n",
       "132  7.733333 -1.908398\n",
       "133  7.766667 -1.914641\n",
       "134  7.800000 -1.914248\n",
       "135  7.833333 -1.919012\n",
       "\n",
       "[136 rows x 2 columns]"
      ]
     },
     "execution_count": 8,
     "metadata": {},
     "output_type": "execute_result"
    }
   ],
   "source": [
    "data2"
   ]
  },
  {
   "cell_type": "code",
   "execution_count": 29,
   "metadata": {},
   "outputs": [],
   "source": [
    "data3 = pd.read_csv(\"datos.csv\", sep=\";\")"
   ]
  },
  {
   "cell_type": "code",
   "execution_count": 30,
   "metadata": {},
   "outputs": [
    {
     "data": {
      "image/png": "[encoded data removed]",
      "text/plain": [
       "<Figure size 432x288 with 1 Axes>"
      ]
     },
     "metadata": {
      "needs_background": "light"
     },
     "output_type": "display_data"
    }
   ],
   "source": [
    "plt.plot(data1.t, data1.y, \"r-\", data2.t, data2.y, \"g--\", data3.t, data3.y)\n",
    "plt.ylabel('Desplazamiento en y (m)')\n",
    "plt.xlabel('Tiempo (s)')\n",
    "plt.show()"
   ]
  },
  {
   "cell_type": "code",
   "execution_count": 13,
   "metadata": {},
   "outputs": [
    {
     "data": {
      "text/html": [
       "<div>\n",
       "<style scoped>\n",
       "    .dataframe tbody tr th:only-of-type {\n",
       "        vertical-align: middle;\n",
       "    }\n",
       "\n",
       "    .dataframe tbody tr th {\n",
       "        vertical-align: top;\n",
       "    }\n",
       "\n",
       "    .dataframe thead th {\n",
       "        text-align: right;\n",
       "    }\n",
       "</style>\n",
       "<table border=\"1\" class=\"dataframe\">\n",
       "  <thead>\n",
       "    <tr style=\"text-align: right;\">\n",
       "      <th></th>\n",
       "      <th>t</th>\n",
       "      <th>y</th>\n",
       "    </tr>\n",
       "  </thead>\n",
       "  <tbody>\n",
       "    <tr>\n",
       "      <td>0</td>\n",
       "      <td>3.333333</td>\n",
       "      <td>-1.437153</td>\n",
       "    </tr>\n",
       "    <tr>\n",
       "      <td>1</td>\n",
       "      <td>3.366667</td>\n",
       "      <td>-1.442618</td>\n",
       "    </tr>\n",
       "    <tr>\n",
       "      <td>2</td>\n",
       "      <td>3.400000</td>\n",
       "      <td>-1.442618</td>\n",
       "    </tr>\n",
       "    <tr>\n",
       "      <td>3</td>\n",
       "      <td>3.433333</td>\n",
       "      <td>-1.442618</td>\n",
       "    </tr>\n",
       "    <tr>\n",
       "      <td>4</td>\n",
       "      <td>3.466667</td>\n",
       "      <td>-1.442618</td>\n",
       "    </tr>\n",
       "    <tr>\n",
       "      <td>...</td>\n",
       "      <td>...</td>\n",
       "      <td>...</td>\n",
       "    </tr>\n",
       "    <tr>\n",
       "      <td>106</td>\n",
       "      <td>6.866667</td>\n",
       "      <td>-1.715841</td>\n",
       "    </tr>\n",
       "    <tr>\n",
       "      <td>107</td>\n",
       "      <td>6.900000</td>\n",
       "      <td>-1.741797</td>\n",
       "    </tr>\n",
       "    <tr>\n",
       "      <td>108</td>\n",
       "      <td>6.933333</td>\n",
       "      <td>-1.756824</td>\n",
       "    </tr>\n",
       "    <tr>\n",
       "      <td>109</td>\n",
       "      <td>6.966667</td>\n",
       "      <td>-1.775950</td>\n",
       "    </tr>\n",
       "    <tr>\n",
       "      <td>110</td>\n",
       "      <td>7.000000</td>\n",
       "      <td>-1.796441</td>\n",
       "    </tr>\n",
       "  </tbody>\n",
       "</table>\n",
       "<p>111 rows × 2 columns</p>\n",
       "</div>"
      ],
      "text/plain": [
       "            t         y\n",
       "0    3.333333 -1.437153\n",
       "1    3.366667 -1.442618\n",
       "2    3.400000 -1.442618\n",
       "3    3.433333 -1.442618\n",
       "4    3.466667 -1.442618\n",
       "..        ...       ...\n",
       "106  6.866667 -1.715841\n",
       "107  6.900000 -1.741797\n",
       "108  6.933333 -1.756824\n",
       "109  6.966667 -1.775950\n",
       "110  7.000000 -1.796441\n",
       "\n",
       "[111 rows x 2 columns]"
      ]
     },
     "execution_count": 13,
     "metadata": {},
     "output_type": "execute_result"
    }
   ],
   "source": [
    "data3"
   ]
  },
  {
   "cell_type": "code",
   "execution_count": 46,
   "metadata": {},
   "outputs": [],
   "source": [
    "dx= data2.y.diff()\n"
   ]
  },
  {
   "cell_type": "code",
   "execution_count": 47,
   "metadata": {},
   "outputs": [
    {
     "data": {
      "image/png": "[encoded data removed]",
      "text/plain": [
       "<Figure size 432x288 with 1 Axes>"
      ]
     },
     "metadata": {
      "needs_background": "light"
     },
     "output_type": "display_data"
    }
   ],
   "source": [
    "plt.plot(data2.t,dx)\n",
    "plt.ylabel('Desplazamiento en y (m)')\n",
    "plt.xlabel('Tiempo (s)')\n",
    "plt.show()\n"
   ]
  },
  {
   "cell_type": "code",
   "execution_count": 50,
   "metadata": {},
   "outputs": [],
   "source": [
    "data4= pd.read_csv(\"velocidad.csv\", sep=\";\" )"
   ]
  },
  {
   "cell_type": "code",
   "execution_count": 51,
   "metadata": {},
   "outputs": [
    {
     "data": {
      "text/html": [
       "<div>\n",
       "<style scoped>\n",
       "    .dataframe tbody tr th:only-of-type {\n",
       "        vertical-align: middle;\n",
       "    }\n",
       "\n",
       "    .dataframe tbody tr th {\n",
       "        vertical-align: top;\n",
       "    }\n",
       "\n",
       "    .dataframe thead th {\n",
       "        text-align: right;\n",
       "    }\n",
       "</style>\n",
       "<table border=\"1\" class=\"dataframe\">\n",
       "  <thead>\n",
       "    <tr style=\"text-align: right;\">\n",
       "      <th></th>\n",
       "      <th>t</th>\n",
       "      <th>x</th>\n",
       "      <th>y</th>\n",
       "      <th>v</th>\n",
       "      <th>vy</th>\n",
       "    </tr>\n",
       "  </thead>\n",
       "  <tbody>\n",
       "    <tr>\n",
       "      <td>0</td>\n",
       "      <td>3.20</td>\n",
       "      <td>0.0467</td>\n",
       "      <td>-0.0220</td>\n",
       "      <td>NaN</td>\n",
       "      <td>NaN</td>\n",
       "    </tr>\n",
       "    <tr>\n",
       "      <td>1</td>\n",
       "      <td>3.23</td>\n",
       "      <td>0.0522</td>\n",
       "      <td>-0.0192</td>\n",
       "      <td>NaN</td>\n",
       "      <td>NaN</td>\n",
       "    </tr>\n",
       "    <tr>\n",
       "      <td>2</td>\n",
       "      <td>3.50</td>\n",
       "      <td>0.0577</td>\n",
       "      <td>-0.0357</td>\n",
       "      <td>NaN</td>\n",
       "      <td>NaN</td>\n",
       "    </tr>\n",
       "    <tr>\n",
       "      <td>3</td>\n",
       "      <td>3.57</td>\n",
       "      <td>0.0577</td>\n",
       "      <td>-0.0412</td>\n",
       "      <td>NaN</td>\n",
       "      <td>NaN</td>\n",
       "    </tr>\n",
       "    <tr>\n",
       "      <td>4</td>\n",
       "      <td>3.63</td>\n",
       "      <td>0.0577</td>\n",
       "      <td>-0.0467</td>\n",
       "      <td>NaN</td>\n",
       "      <td>NaN</td>\n",
       "    </tr>\n",
       "    <tr>\n",
       "      <td>...</td>\n",
       "      <td>...</td>\n",
       "      <td>...</td>\n",
       "      <td>...</td>\n",
       "      <td>...</td>\n",
       "      <td>...</td>\n",
       "    </tr>\n",
       "    <tr>\n",
       "      <td>60</td>\n",
       "      <td>6.30</td>\n",
       "      <td>0.0577</td>\n",
       "      <td>-1.2100</td>\n",
       "      <td>0.536</td>\n",
       "      <td>-0.536</td>\n",
       "    </tr>\n",
       "    <tr>\n",
       "      <td>61</td>\n",
       "      <td>6.33</td>\n",
       "      <td>0.0549</td>\n",
       "      <td>-1.2300</td>\n",
       "      <td>0.659</td>\n",
       "      <td>-0.659</td>\n",
       "    </tr>\n",
       "    <tr>\n",
       "      <td>62</td>\n",
       "      <td>6.37</td>\n",
       "      <td>0.0577</td>\n",
       "      <td>-1.2600</td>\n",
       "      <td>0.498</td>\n",
       "      <td>-0.453</td>\n",
       "    </tr>\n",
       "    <tr>\n",
       "      <td>63</td>\n",
       "      <td>6.43</td>\n",
       "      <td>0.0577</td>\n",
       "      <td>-1.2900</td>\n",
       "      <td>0.590</td>\n",
       "      <td>-0.577</td>\n",
       "    </tr>\n",
       "    <tr>\n",
       "      <td>64</td>\n",
       "      <td>6.47</td>\n",
       "      <td>0.0494</td>\n",
       "      <td>-1.3000</td>\n",
       "      <td>0.498</td>\n",
       "      <td>-0.453</td>\n",
       "    </tr>\n",
       "  </tbody>\n",
       "</table>\n",
       "<p>65 rows × 5 columns</p>\n",
       "</div>"
      ],
      "text/plain": [
       "       t       x       y      v     vy\n",
       "0   3.20  0.0467 -0.0220    NaN    NaN\n",
       "1   3.23  0.0522 -0.0192    NaN    NaN\n",
       "2   3.50  0.0577 -0.0357    NaN    NaN\n",
       "3   3.57  0.0577 -0.0412    NaN    NaN\n",
       "4   3.63  0.0577 -0.0467    NaN    NaN\n",
       "..   ...     ...     ...    ...    ...\n",
       "60  6.30  0.0577 -1.2100  0.536 -0.536\n",
       "61  6.33  0.0549 -1.2300  0.659 -0.659\n",
       "62  6.37  0.0577 -1.2600  0.498 -0.453\n",
       "63  6.43  0.0577 -1.2900  0.590 -0.577\n",
       "64  6.47  0.0494 -1.3000  0.498 -0.453\n",
       "\n",
       "[65 rows x 5 columns]"
      ]
     },
     "execution_count": 51,
     "metadata": {},
     "output_type": "execute_result"
    }
   ],
   "source": [
    "data4"
   ]
  },
  {
   "cell_type": "code",
   "execution_count": 53,
   "metadata": {},
   "outputs": [
    {
     "data": {
      "image/png": "[encoded data removed]",
      "text/plain": [
       "<Figure size 432x288 with 1 Axes>"
      ]
     },
     "metadata": {
      "needs_background": "light"
     },
     "output_type": "display_data"
    }
   ],
   "source": []
  },
  {
   "cell_type": "code",
   "execution_count": null,
   "metadata": {},
   "outputs": [],
   "source": []
  }
 ],
 "metadata": {
  "kernelspec": {
   "display_name": "Python 3",
   "language": "python",
   "name": "python3"
  },
  "language_info": {
   "codemirror_mode": {
    "name": "ipython",
    "version": 3
   },
   "file_extension": ".py",
   "mimetype": "text/x-python",
   "name": "python",
   "nbconvert_exporter": "python",
   "pygments_lexer": "ipython3",
   "version": "3.7.4"
  }
 },
 "nbformat": 4,
 "nbformat_minor": 2
}
